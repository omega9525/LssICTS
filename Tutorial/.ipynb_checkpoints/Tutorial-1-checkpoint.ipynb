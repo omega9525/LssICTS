{
 "cells": [
  {
   "cell_type": "markdown",
   "metadata": {},
   "source": [
    "# <font size =10 color='black'> LSS Hand On: session 1 </font> "
   ]
  },
  {
   "cell_type": "code",
   "execution_count": null,
   "metadata": {
    "collapsed": true,
    "jupyter": {
     "outputs_hidden": true
    }
   },
   "outputs": [],
   "source": [
    "from __future__ import print_function\n",
    "\n",
    "#####importing the necessary libraries\n",
    "#To make the plots inline otherwise it will make seperate figure\n",
    "%matplotlib inline \n",
    "#for high resolution plot outputs\n",
    "%config InlineBackend.figure_format = 'retina'"
   ]
  },
  {
   "cell_type": "markdown",
   "metadata": {},
   "source": [
    "# <font size =10 color='red'> Cosmology - The Next Decade </font> \n",
    " \n",
    "# <font size=6 color='blue'> International Center for Theoretical Science , Bangalore </font>\n",
    "\n",
    "##  <font size=3 color='black'> Author: Shadab Alam (salam@roe.ac.uk) </font>\n",
    "\n"
   ]
  },
  {
   "cell_type": "markdown",
   "metadata": {},
   "source": [
    "# <font size=8 color='red'> Tutorial sessions on Large Scale Structure Analysis </font>\n",
    "\n",
    "# <font size=8 color='Black'> Introduction </font>\n",
    "\n",
    "## <font size=5 color='blue'> Motivation: </font>\n",
    "<font size=3 color='black'> These session are organized to give practical hands on training towards LSS analysis. Current and future surveys have made plethora of data publicly available. With the future survey making more and more public releases these anlaysis technique should become more and more useful to exploit the data.  </font>\n",
    "\n",
    "## <font size=5 color='blue'> Goals: </font>\n",
    "<font size=3 color='black'> The goal of these session is to expose students with the details and intricacies of the techniques used while keeping an emphasis on programming and generality of technique. The session should attempt to expose students with three things \n",
    "<ol type=\"A\">\n",
    "    <li>The basics of python and jupyter.</li>\n",
    "    <li>The general idea of measuring and understanding two point correlation functions.</li>\n",
    "    <li>Cosmology specific use of correlation functions.</li>\n",
    "</ol>\n",
    " \n",
    " Every student should find the exposure to python and jupyter useful for their future pursuit. The general idea of correlation function should be useful for anyone inteding to work in data anlaysis of any kind and the Cosmology specific use of correlation functions will be useful for students who intend to pursue further research in the field. </font>\n",
    "\n",
    "## <font size=5 color='blue'> Spirit: </font>\n",
    "<font size=3 color='black'> The modules are inter connected and desgined in such a way that a student can ask and focus more on any or all aspects of the analysis depending on their interests. In a diverse group like this we would a like a collaborative effort where everyone learn and teach at the same time. </font>\n",
    "\n",
    "## <font size=5 color='blue'> Communication:  </font>\n",
    "<font size=3 color='black'> We are going to communicate with each other during these sessions through Slack channels. You can join the channels over here: \n",
    "This is inteded to be more a discussion oriented communication where anyone can ask a questions and answer the questions. If you haven't got the invitation yet then send me and email.</font>\n",
    "\n",
    "## <font size=5 color='black'> https://cosmologythen-hes8608.slack.com/ </font>\n",
    "\n",
    "\n",
    "\n",
    "## <font size=5 color='blue'> Partition: </font>\n",
    "<font size=3 color='black'> We will have three such sessions each of 1 hour. There will be some instruction with time to explore and test your understanding.</font>"
   ]
  },
  {
   "cell_type": "markdown",
   "metadata": {},
   "source": [
    "# <font color='red'>  Cosmology Big picture connections </font>\n",
    "\n",
    "From CMB to Large Scale Structure of galaxies\n",
    "\n",
    "\n",
    "<img src=\"../images/cover_blake_BAO_pic.jpg\" alt=\"drawing\" width=\"700\"/>"
   ]
  },
  {
   "cell_type": "markdown",
   "metadata": {},
   "source": [
    "# <font color='red' weight=bold>  What is Jupyter Notebook (JNB) </font>\n",
    "\n",
    "source: https://murillogroupmsu.com/introduction-to-jupyter-notebooks/\n",
    "\n",
    "JNB were designed to gather in one tool the best features of all of several environments. And, they can be used with a range of languages (about 40); the original version was developed for Python, which was called an “iPython notebook”. The name “Jupyter” refers to Julia (Ju), Python (pyt), and R (r), but these three languages are just the tip of the iceberg. Here are just some of the things you can do with JNBs\n",
    "\n",
    "<ul type=\"Circle\">\n",
    "    <li>Access the operating system while you are working, such as changing directories and looking for files.</li>\n",
    "    <li>Embed videos, links to other websites, pictures, etc.</li>\n",
    "    <li>Time portions of code to find speed bottlenecks.</li>\n",
    "    <li>Very easily and beautifully comment using text cells. This is extremely powerful, using the full features of HTML and CSS, so your JNB can incorporate all of the advances features you see at websites. Commenting code becomes enjoyable!\n",
    "But, using the rapid features of markdown, you can also create quite nice documentation without the need for full HTML/CSS. Don’t be intimidated! (And, see the introduction to Markdown below.)</li>\n",
    "    <li>Include mathematical formulae as part of the code documentation, using the full capabilities of LaTeX.\n",
    "Collaborate and communicate much more efficiently. Even if your collaborators don’t use JNBs (perhaps you should choose better collaborators!), you can send them an HTML version of your JNB that displays, but doesn’t need to run, in their browser. </li>\n",
    "    <li> Use in educational settings, with lecture/instruction directly included with the code. Many of the classes we teach here in the CMSE department are JNB based (see below). </li>\n",
    "</ul>\n",
    "\n",
    "The basic idea of a JNB is cells of different types. The main type of cell is a code cell, but text-based cells make your code very readable. Here is what an example JNB looks like:\n",
    "\n",
    "You are already looking at the Jupyter notebook and all these cells are of markdown type you will see code cell later in the session. \n",
    "\n",
    "# <font size=3, color='blue' weight=bold>  Remember to excecute any cell in Jupyter notebook you will need to press Shift+ Enter. </font>\n"
   ]
  },
  {
   "cell_type": "markdown",
   "metadata": {},
   "source": [
    "# <font color='red' weight=bold>  Quick Introduction to Python </font>\n",
    "\n",
    "source: https://www.w3schools.com/python/default.asp\n",
    "\n",
    "## What is Python?\n",
    "Python is a popular programming language. It was created in 1991 by Guido van Rossum.\n",
    "It is used for:\n",
    "web development (server-side),\n",
    "software development,\n",
    "mathematics,\n",
    "system scripting.\n",
    "\n",
    "\n",
    "## Python Syntax compared to other programming languages\n",
    "Python was designed to for readability, and has some similarities to the English language with influence from mathematics.\n",
    "Python uses new lines to complete a command, as opposed to other programming languages which often use semicolons or parentheses.\n",
    "Python relies on indentation, using whitespace, to define scope; such as the scope of loops, functions and classes. Other programming languages often use curly-brackets for this purpose.\n",
    "\n",
    "# Important library and how to import them\n",
    "\n",
    "There is a lot of functions available in python which are package in several library. To be able to use these function first of all they should be installed once that is done you can import the library (which needs to be done only once preferable in the first cell) in your Jupyter notebook by typing import Library-Name as LN . Once its important you can use all the functions of the library by refereing to the alias you have assigned it which is LN here.\n",
    "\n",
    "Following is the list of import I always do\n",
    "<ul type=\"Circle\">\n",
    "    <li> import numpy as np </li>\n",
    "    <li> import pylab as pl </li>\n",
    "</ul>\n",
    "\n",
    "numpy is a numerical python library which is well equiped with a very powerful linear algebra tool. Please go through this link for basics if you are not familiar with numpy:\n",
    "https://jakevdp.github.io/PythonDataScienceHandbook/02.00-introduction-to-numpy.html\n",
    "http://www.numpy.org/\n",
    "\n",
    "pylab is a library well equipped with plotting tools in the python.\n",
    "https://heartbeat.fritz.ai/introduction-to-matplotlib-data-visualization-in-python-d9143287ae39"
   ]
  },
  {
   "cell_type": "markdown",
   "metadata": {},
   "source": [
    "# import the two library"
   ]
  },
  {
   "cell_type": "code",
   "execution_count": null,
   "metadata": {
    "collapsed": true,
    "jupyter": {
     "outputs_hidden": true
    }
   },
   "outputs": [],
   "source": [
    "import numpy as np\n",
    "import pylab as pl"
   ]
  },
  {
   "cell_type": "markdown",
   "metadata": {},
   "source": [
    "For help on any function you can create a new cell and type function name with question mark and press shift enter to open help. For example to create an linearly spaced array with numpy you can use function \"linspace\" and to know its use you can type np.linspace? and press shift+enter in a new cell to see the help."
   ]
  },
  {
   "cell_type": "code",
   "execution_count": null,
   "metadata": {
    "collapsed": true,
    "jupyter": {
     "outputs_hidden": true
    }
   },
   "outputs": [],
   "source": [
    "np.linspace?"
   ]
  },
  {
   "cell_type": "markdown",
   "metadata": {},
   "source": [
    "This create numpy array and make a sin function plot using pylab command"
   ]
  },
  {
   "cell_type": "code",
   "execution_count": null,
   "metadata": {
    "collapsed": true,
    "jupyter": {
     "outputs_hidden": true
    }
   },
   "outputs": [],
   "source": [
    "xx=np.linspace(0,2.0*np.pi,100)\n",
    "yy=np.sin(xx)\n",
    "\n",
    "\n",
    "pl.figure(figsize=(8,5))\n",
    "pl.plot(xx,yy)\n",
    "pl.xlabel('angle',fontsize=22)\n",
    "pl.ylabel('sin(x)',fontsize=22)\n",
    "pl.title('example array and plot',fontsize=22)"
   ]
  },
  {
   "cell_type": "markdown",
   "metadata": {},
   "source": [
    "# introduce array slicing in python ?"
   ]
  },
  {
   "cell_type": "code",
   "execution_count": null,
   "metadata": {
    "collapsed": true,
    "jupyter": {
     "outputs_hidden": true
    }
   },
   "outputs": [],
   "source": [
    "test=np.arange(15).reshape(3,5)\n",
    "print('To check shape of array')\n",
    "print(test.shape)\n",
    "\n",
    "print('To print the array')\n",
    "print(test)\n",
    "\n",
    "print('To take a given column of array')\n",
    "print(test[:,4])\n",
    "\n",
    "print('To take a given row of array')\n",
    "print(test[2,:])\n",
    "\n",
    "print('To take a slice of array along column')\n",
    "print('column selection with all row')\n",
    "print(test[:,2:4])\n",
    "\n",
    "print('row selection with all columns')\n",
    "print(test[1:3,:])\n",
    "\n",
    "print('You can also use negative numbers for selection')\n",
    "print(test[:,1:-2])\n"
   ]
  },
  {
   "cell_type": "markdown",
   "metadata": {},
   "source": [
    "# <font size=8, color='red' weight=bold>  Introduction to Correlation Function </font>\n",
    "\n",
    "## <font size=5, color='black' weight=bold>  Definition: </font> \n",
    "\n",
    "The spatial two-point correlation function <font color='blue' weight=bold>  $\\xi(r)$ </font> is defined as\n",
    "the excess probability, compared with that expected for\n",
    "a random distribution, of finding a pair of points at a\n",
    "separation r.\n",
    "\n",
    "<img src=\"../images/xir-graphics-definition.png\" alt=\"drawing\" width=\"700\"/>\n",
    "\n",
    "## Let us to try understand why such a statistics will be useful and how to measure it"
   ]
  },
  {
   "cell_type": "code",
   "execution_count": null,
   "metadata": {
    "collapsed": true,
    "jupyter": {
     "outputs_hidden": true
    }
   },
   "outputs": [],
   "source": [
    "def Create_Data_INCUBE(npt,nptx=0,npty=0,nptz=0,structure='grid'):\n",
    "    '''This creates data inside a unit cube\n",
    "     one can just provide the npt which is npt per axis.\n",
    "     But if you would like the number of points to be different on any axis then use the \n",
    "     corresponding axis nptx,npty,nptz to have a different number of points.\n",
    "     One can also choose the structure of data with\n",
    "     structure='grid' to generate a regular grid and\n",
    "     structure='random' to generate random points within the cube \n",
    "     it returns the xyz coordinates and the maximum sideL based on npt on each axis'''\n",
    "    \n",
    "    #update the number of points in each axis\n",
    "    if(nptx==0):\n",
    "        nptx=npt\n",
    "    if(npty==0):\n",
    "        npty=npt\n",
    "    if(nptz==0):\n",
    "        nptz=npt\n",
    "        \n",
    "    if(structure=='grid'):\n",
    "        #linearly space points in each axis\n",
    "        xspace=np.linspace(0,1,nptx)\n",
    "        yspace=np.linspace(0,1,npty)\n",
    "        zspace=np.linspace(0,1,nptz)\n",
    "        \n",
    "        #create a 3d grid using linearly space points\n",
    "        px,py,pz=np.meshgrid(xspace,yspace,zspace)\n",
    "        #Reshape the 3d array to 1d array\n",
    "        px=px.reshape(px.size)\n",
    "        py=py.reshape(py.size)\n",
    "        pz=pz.reshape(pz.size)    \n",
    "    elif(structure=='random'):\n",
    "        #total number of points\n",
    "        npt3d=nptx*npty*nptz\n",
    "        #create random points for each of the axis\n",
    "        px=np.random.random(npt3d)\n",
    "        py=np.random.random(npt3d)\n",
    "        pz=np.random.random(npt3d)\n",
    "        \n",
    "    #stack the x-y-z co-ordinates in one array\n",
    "    pxyz=np.column_stack([px,py,pz])\n",
    "    \n",
    "    #size of sideL\n",
    "    sideLxyz=np.array([1.0/(nptx-1),1.0/(npty-1),1.0/(nptz-1)])\n",
    "    sideL=np.max(sideLxyz)\n",
    "    \n",
    "    return pxyz ,sideL\n",
    "        \n",
    "       \n",
    "\n",
    "def Draw_unit_cube_perspective(pxyz,sideL,gridon=1,plots=1):\n",
    "    '''This draws unit cube with a perpsective in 2D''' \n",
    "\n",
    "    #get the vertices of a unit cube\n",
    "    box_point={0:np.array([0,0,0]),1:np.array([0,0,1]),2:np.array([0,1,0]),3:np.array([1,0,0]),\n",
    "           4:np.array([0,1,1]),5:np.array([1,0,1]),6:np.array([1,1,0]),7:np.array([1,1,1])}\n",
    "\n",
    "    #define the rotation angles for the purpose of visualization only\n",
    "    theta_x=2.0*np.pi/10.0\n",
    "    theta_y=1.0*np.pi/20.0\n",
    "    theta_z=0.0*np.pi/10.0\n",
    "\n",
    "    #define the rotation matrix\n",
    "    Rx=np.array([[1,0,0],\n",
    "                 [0,np.cos(theta_x),-np.sin(theta_x)],\n",
    "                [0,np.sin(theta_x),np.cos(theta_x)]])\n",
    "\n",
    "    Ry=np.array([[np.cos(theta_y),0,np.sin(theta_y)],\n",
    "                [0,1,0],\n",
    "                [-np.sin(theta_y),0,np.cos(theta_y)]])\n",
    "\n",
    "    Rz=np.array([[np.cos(theta_z),-np.sin(theta_z),0],\n",
    "                [np.sin(theta_z),np.cos(theta_z),0],\n",
    "               [0,0,1]])\n",
    "\n",
    "    #initiate a figure\n",
    "    pl.figure(figsize=(10,10))\n",
    "\n",
    "    #Draw the edges of the cube\n",
    "    for ii,aa in enumerate(box_point.keys()):\n",
    "        for jj,bb in enumerate(box_point.keys()):\n",
    "            diff=np.abs(box_point[aa]-box_point[bb])\n",
    "            if(np.sum(diff)==1):\n",
    "                v1=np.matmul(np.matmul(Rx,Ry),box_point[aa])\n",
    "                v2=np.matmul(np.matmul(Rx,Ry),box_point[bb])\n",
    "                pl.plot([v1[0],v2[0]],[v1[1],v2[1]],'k-',lw=2)\n",
    "\n",
    "\n",
    "    #Draw the input points and connect the nearest points if grid is on\n",
    "    for ii in range(0,pxyz.shape[0]):\n",
    "        vthis=pxyz[ii,:]\n",
    "        #Rotate the point for perspective\n",
    "        vrot=np.matmul(np.matmul(Rx,Ry),vthis)\n",
    "        #plot the point\n",
    "        pl.plot(vrot[0],vrot[1],color='r',marker='o',markersize=10)\n",
    "        \n",
    "        #Now if grid is needed then run this part to plot grid of nearest neigbour\n",
    "        if(gridon==1):\n",
    "            #Look at all the other points\n",
    "            for jj in range(ii,pxyz.shape[0]):\n",
    "                vjj=pxyz[jj,:]\n",
    "                #Rotate the point for perspective\n",
    "                vrot_jj=np.matmul(np.matmul(Rx,Ry),vjj)\n",
    "                #See if this is within the sideL of the input\n",
    "                dist=np.sqrt(np.sum(np.power(vjj-vthis,2)))\n",
    "                if(dist<=1.01*sideL and dist>0):\n",
    "                    #plot a line connecting if within sideL\n",
    "                    pl.plot([vrot[0],vrot_jj[0]],[vrot[1],vrot_jj[1]],color='r',ls='-',alpha=0.6)\n",
    "        \n",
    "    pl.axis('off')\n",
    "    #pl.axis('equal')\n",
    "        \n",
    "    return "
   ]
  },
  {
   "cell_type": "code",
   "execution_count": null,
   "metadata": {
    "collapsed": true,
    "jupyter": {
     "outputs_hidden": true
    }
   },
   "outputs": [],
   "source": [
    "#Generate data of two kinds\n",
    "pxyz_g, ag=Create_Data_INCUBE(5,nptx=0,npty=0,nptz=0,structure='grid')\n",
    "pxyz_r, ar=Create_Data_INCUBE(5,nptx=0,npty=0,nptz=0,structure='random')\n",
    "\n",
    "#plot data of two kinds\n",
    "Draw_unit_cube_perspective(pxyz_g,ag,gridon=1,plots=1)\n",
    "Draw_unit_cube_perspective(pxyz_r,ar,gridon=1,plots=1)"
   ]
  },
  {
   "cell_type": "markdown",
   "metadata": {},
   "source": [
    "The above two distribution of points are different and its easy to see that because we have small number of points and difference is quite large. We would like to think about how to distinguish between the two in a statistical way. \n",
    "\n",
    "## Pair Counting: Count the number pair of points as the function of distance\n",
    "\n",
    "pair counting for large number of points is an expensive and tricky process. A lot of public code and tricks are involved to do it efficiently. In this tutorial we are using one such code but later you can explore other options. The next cell just import some necessary libraries and define a function necessary to do the pair count. You should try to just understand how to use it rather than how it works in the first go and later if you have time and inclination then you can try to understand how it works."
   ]
  },
  {
   "cell_type": "code",
   "execution_count": null,
   "metadata": {
    "collapsed": true,
    "jupyter": {
     "outputs_hidden": true
    }
   },
   "outputs": [],
   "source": [
    "import sys\n",
    "sys.path.insert(0, '../CorrelationFunction')\n",
    "import ccorr_utility as corrutility\n",
    "import General_FITS_selection as GFS\n",
    "import ccorr\n",
    "\n",
    "def get_paircount(pxyz1,rlim=[0,0.3,0,1.0],nbins=[20,1],blen=[1.0,1.0,1.0],\n",
    "                  POS_min=[0,0,0],sampmode=0,njn=0,pbc=1,los=0,interactive=1,plots=0):\n",
    "    \n",
    "    ''' This performs the pair count and return the array with first column as seperation and second column as number of pair \n",
    "    sampmode= 0=rmu , 1=rpara-rperp, 2=rtheta, \n",
    "    3=log(rpar)-rperp (The range of r_perp in samplim should be entered in the log space), \n",
    "    4=log(r)-theta (The range of r in samplim should be entered in the log space)'''\n",
    "    \n",
    "    nhocells=3\n",
    "    fp1=0\n",
    "    fp2=0\n",
    "    lp1=pxyz1.shape[0]\n",
    "    lp2=pxyz1.shape[0]\n",
    "    \n",
    "    data1=np.column_stack([pxyz1,np.ones(lp1)])\n",
    "    \n",
    "    data_c = np.ascontiguousarray(data1[:,[0,1,2,3]], dtype=np.float64)\n",
    "    data2_c=np.copy(data_c)\n",
    "    \n",
    "    rlim_c =np.ascontiguousarray(np.array(rlim,dtype='double'))\n",
    "    blen_c =np.ascontiguousarray(np.array(blen,dtype='double'))\n",
    "    pos_min_c=np.ascontiguousarray(np.array(POS_min,dtype='double'))\n",
    "\n",
    "\n",
    "    if(1):\n",
    "        pc= ccorr.corr2dpy(data_c, fp1, lp1, data_c, fp2, lp2, rlim_c, nbins[0],nbins[1], nhocells,\n",
    "                 blen_c, pos_min_c, sampmode, njn,\n",
    "                 pbc,los,interactive)\n",
    "        \n",
    "    if(nbins[1]!=1):\n",
    "        return pc\n",
    "    \n",
    "    rbin_ed=np.linspace(rlim[0],rlim[1],nbins[0]+1)\n",
    "    rbin_mid=0.5*(rbin_ed[1:]+rbin_ed[:-1])\n",
    "    if(plots==1):\n",
    "        pl.plot(rbin_mid,pc)\n",
    "    \n",
    "    return np.column_stack([rbin_mid,pc])"
   ]
  },
  {
   "cell_type": "markdown",
   "metadata": {},
   "source": [
    "# <font size=5, color='blue'> Work 1: Generating data and pair counting </font>\n",
    "Now let us write the code to generate a two data set one with grid structure and other with random structure with npt=21 using the function <font size=3, color='green', weight='light'>  Create_Data_INCUBE </font> \n",
    "\n",
    "Then count the number of pair of points as the function of distance using the function <font size=3, color='green', weight='light'>  get_paircount </font>  and finally plot them.\n"
   ]
  },
  {
   "cell_type": "code",
   "execution_count": null,
   "metadata": {
    "collapsed": true,
    "jupyter": {
     "outputs_hidden": true
    }
   },
   "outputs": [],
   "source": [
    "#use this space to write the code for work 1\n",
    "\n"
   ]
  },
  {
   "cell_type": "markdown",
   "metadata": {},
   "source": [
    "# Modeling the Pair count\n",
    "\n",
    "## Give an expression for pair count as the function of distance in a unit box with $N_R$ number of points\n",
    "\n",
    "\n",
    "<img src=\"../images/Analytic_pc_randoms.png\" alt=\"drawing\" width=\"700\"/>\n",
    "\n",
    "# <font size=5, color='blue'> Work 2: Analytic expression for Pair counting a random distribution </font>\n",
    "Now write a function to evaluate the pair count for a random distribution given bin edges, side legnth and number of random points. The function should have following structure:\n",
    "\n",
    "```python\n",
    "def Model_PairCount_random(rbin_ed,NR=1, sideL=1.0):\n",
    "    '''This should return array with two columns the first column corresponding to the mid point of r bins and the second column should give the analytical pair count for randoms.'''\n",
    "    return model_pc\n",
    "```\n",
    "\n",
    "Also make a plot comparing the result from your analytic count with previous numerically computed results for random distribution."
   ]
  },
  {
   "cell_type": "code",
   "execution_count": null,
   "metadata": {
    "collapsed": true,
    "jupyter": {
     "outputs_hidden": true
    }
   },
   "outputs": [],
   "source": [
    "#use this space to write the code for work 2\n"
   ]
  },
  {
   "cell_type": "markdown",
   "metadata": {},
   "source": [
    "# Fundamental two point modes of a infinite cubic lattice\n",
    "\n",
    "<img src=\"../images/modes-of-cube.png\" alt=\"drawing\" width=\"700\"/>\n",
    "\n",
    "A of cube side length $a$ will have following fundamental modes\n",
    "\n",
    "<ol type=\"A\">\n",
    "    <li>Edge modes:  $a$</li>\n",
    "    <li>Face modes:  $\\sqrt{\\alpha^2 + \\beta^2} a$ </li>\n",
    "    <li>Diagonal modes: $\\sqrt{\\alpha^2 + \\beta^2 + \\gamma^2} a$</li>\n",
    "</ol>\n",
    "\n",
    "where $\\alpha$, $\\beta$  and $\\gamma$ are positive integers. It will be useful to remember two number theory theorems at this point.\n",
    "\n",
    "# <font size=3, color='blue'> Theorem 1: Sum of two squares theorem </font>\n",
    "\n",
    "An integer greater than one can be written as a sum of two squares if and only if its prime decomposition contains no prime congruent to  3 (mod 4) raised to an odd power.\n",
    "\n",
    "for more details: #https://en.wikipedia.org/wiki/Sum_of_two_squares_theorem\n",
    "\n",
    "\n",
    "# <font size=3, color='blue'> Theorem 2: Legendre's three-square theorem </font>\n",
    " \n",
    "It states that a natural number can be represented as the sum of three squares of integers\n",
    "\n",
    "$$n=x^{2}+y^{2}+z^{2}$$\n",
    "\n",
    "if and only if n is not of the form $n = 4^a(8b + 7)$ for integers a and b.\n",
    "\n",
    "for more details: https://en.wikipedia.org/wiki/Legendre%27s_three-square_theorem\n",
    "\n",
    "## Determine the pair count for a grid distribution as the function of distance in a unit box with $N_D$ number of points on a side\n"
   ]
  },
  {
   "cell_type": "code",
   "execution_count": null,
   "metadata": {
    "collapsed": true,
    "jupyter": {
     "outputs_hidden": true
    }
   },
   "outputs": [],
   "source": [
    "def Three_sq_Theorem(nmax=25):\n",
    "    #https://en.wikipedia.org/wiki/Legendre%27s_three-square_theorem\n",
    "    xx=[]\n",
    "    for ii in range(2,nmax):\n",
    "        thisnum=ii\n",
    "        while(thisnum%4==0):\n",
    "            thisnum=thisnum/4\n",
    "        \n",
    "        if(thisnum%8!=7):\n",
    "            xx.append(ii)\n",
    "    \n",
    "    return np.array(xx)\n",
    "\n",
    "def Two_sq_Theorem(nmax=25):\n",
    "    #https://en.wikipedia.org/wiki/Sum_of_two_squares_theorem\n",
    "    \n",
    "    my_primes=[3,7,19,23,31,43,47,59,67,71]\n",
    "    \n",
    "    xx=[]\n",
    "    for ii in range(2,nmax):\n",
    "        thisnum=ii; flag=0\n",
    "        for pp in my_primes:\n",
    "            mypower=0\n",
    "            tnum=thisnum\n",
    "            while(tnum%pp==0):\n",
    "                tnum=tnum/pp\n",
    "                mypower=mypower+1\n",
    "                \n",
    "            if(mypower%2==1):\n",
    "                flag=1\n",
    "                break\n",
    "        \n",
    "        if(flag==0):\n",
    "            xx.append(ii)\n",
    "    return np.array(xx)\n",
    "    \n",
    "        \n",
    "def compute_modes_Theorem(npt=21,base=0,height=1.0,xbreak=0.3):\n",
    "    sideL=1.0/(npt-1.0)\n",
    "    \n",
    "    Three_f=Three_sq_Theorem(nmax=61)\n",
    "    Two_f=Two_sq_Theorem(nmax=61)\n",
    "    \n",
    "    ls='-'\n",
    "    nnode=5\n",
    "    for ii in range(1,nnode):\n",
    "        pl.plot([ii*sideL,ii*sideL],[base,height],'m'+ls)\n",
    "        \n",
    "        for jj in range(0,Two_f.size):\n",
    "            if(np.int64(np.sqrt(Two_f[jj]))==np.sqrt(Two_f[jj])):\n",
    "                continue\n",
    "                \n",
    "            xval=ii*np.sqrt(Two_f[jj])*sideL\n",
    "            if(xval>xbreak):\n",
    "                break\n",
    "            pl.plot([xval,xval],[base,height],'c'+ls)\n",
    "        \n",
    "\n",
    "        for jj in range(0,Three_f.size):\n",
    "            if(Three_f[jj] in Two_f or np.int64(np.sqrt(Three_f[jj]))==np.sqrt(Three_f[jj])): \n",
    "                #if its already in some of two square then ignore or perfect square\n",
    "                continue\n",
    "\n",
    "            xval=ii*np.sqrt(Three_f[jj])*sideL\n",
    "            if(xval>xbreak):\n",
    "                break\n",
    "            pl.plot([xval,xval],[base,height],'y'+ls)\n",
    "\n",
    "\n",
    "compute_modes_Theorem(npt=21,height=1.0,xbreak=0.3)"
   ]
  },
  {
   "cell_type": "markdown",
   "metadata": {},
   "source": [
    "# Understanding the pair count of cubic lattice\n",
    "\n",
    "# <font size=5, color='blue'> Work 3: Grid Pair Count </font>\n",
    "Now make a plot of previously computed grid pair count and compare them with the above model. If they look different then explain the reason and take steps such that they agree with each other.\n"
   ]
  },
  {
   "cell_type": "code",
   "execution_count": null,
   "metadata": {
    "collapsed": true,
    "jupyter": {
     "outputs_hidden": true
    }
   },
   "outputs": [],
   "source": [
    "#use this space to write the code for work 3\n",
    "#hint: plot the previously calculated pair count for grid and modes of the cube"
   ]
  },
  {
   "cell_type": "code",
   "execution_count": null,
   "metadata": {
    "collapsed": true,
    "jupyter": {
     "outputs_hidden": true
    }
   },
   "outputs": [],
   "source": [
    "#use this space to write the code for work 3\n",
    "#hint: Recompute the clustering with modification such that the data and model matches\n"
   ]
  },
  {
   "cell_type": "code",
   "execution_count": null,
   "metadata": {
    "collapsed": true,
    "jupyter": {
     "outputs_hidden": true
    }
   },
   "outputs": [],
   "source": [
    "#use this space to write the code for work 3\n",
    "#hint: Finally make a plot of pair count and grid model to show they do agree\n"
   ]
  },
  {
   "cell_type": "markdown",
   "metadata": {},
   "source": [
    "# Converting Pair Count to Correlation Function\n",
    "$$ \\xi(r) = \\frac{DD(r)}{ RR(r)} -1 $$\n",
    "\n",
    "# Landy-Szalay Estimator\n",
    "$$\\xi(r) = \\frac{DD(r) - 2*DR(r) + RR(r)}{RR(r)} $$\n",
    "\n",
    "\n",
    "# <font size=5, color='blue'> Work 4: Convert the grid pair count in correlation function </font>\n",
    "hint: use the previously computed pair count of grid and random distribution as DD and RR"
   ]
  },
  {
   "cell_type": "code",
   "execution_count": null,
   "metadata": {
    "collapsed": true,
    "jupyter": {
     "outputs_hidden": true
    }
   },
   "outputs": [],
   "source": [
    "#use this space to write the code for work 3\n",
    "#hint: Use previously computed pair count for grid and random and compute the correlation function"
   ]
  },
  {
   "cell_type": "markdown",
   "metadata": {},
   "source": [
    "# Extra case : May not be discussed during the session\n",
    "\n"
   ]
  },
  {
   "cell_type": "code",
   "execution_count": null,
   "metadata": {
    "collapsed": true,
    "jupyter": {
     "outputs_hidden": true
    }
   },
   "outputs": [],
   "source": [
    "pxyz_g, ag=Create_Data_INCUBE(10,nptx=0,npty=0,nptz=80,structure='grid')\n",
    "#pxyz_r, ag=Create_Data_INCUBE(21,nptx=0,npty=0,nptz=0,structure='random')\n",
    "pcg=get_paircount(pxyz_g,nbins=[200,1])"
   ]
  },
  {
   "cell_type": "code",
   "execution_count": null,
   "metadata": {
    "collapsed": true,
    "jupyter": {
     "outputs_hidden": true
    }
   },
   "outputs": [],
   "source": [
    "#make plot\n",
    "pl.figure(figsize=(15,8))\n",
    "pl.plot(pcg[:,0],pcg[:,1],'bo--',label='grid')\n",
    "#pl.plot(pcr[:,0],pcr[:,1],'ro--',label='random')\n",
    "pl.xlabel('pair seperation',fontsize=22)\n",
    "pl.ylabel('pair count',fontsize=22)\n",
    "pl.legend(fontsize=22,loc=2)\n",
    "\n",
    "#compute_modes_Theorem(npt=20,height=200000,xbreak=0.3)\n",
    "def compute_non_cubic_mode(npt,nptx=0,npty=0,nptz=0,base=0,height=1.0,xbreak=0.3):\n",
    "    \n",
    "    #update the number of points in each axis\n",
    "    if(nptx==0):\n",
    "        nptx=npt\n",
    "    if(npty==0):\n",
    "        npty=npt\n",
    "    if(nptz==0):\n",
    "        nptz=npt\n",
    "        \n",
    "    sideLx=1.0/(nptx-1.0)\n",
    "    sideLy=1.0/(npty-1.0)\n",
    "    sideLz=1.0/(nptz-1.0)\n",
    "    \n",
    "    ls='-'\n",
    "    nnode=15\n",
    "    nsq=15\n",
    "    list_mode=[]\n",
    "    \n",
    "    for ii in range(1,nnode):\n",
    "        for LL in [sideLx,sideLy,sideLz]:\n",
    "            xval=ii*LL\n",
    "            if(xval in list_mode or xval>xbreak):\n",
    "                continue\n",
    "\n",
    "            list_mode.append(xval)\n",
    "            pl.plot([xval,xval],[base,height],'m'+ls)\n",
    "            \n",
    "        #Two Square\n",
    "        for jj in range(1,nsq):\n",
    "            for kk in range(1,nsq):\n",
    "                for pp in [0,1,2]:\n",
    "                    if(pp==0):#x-y\n",
    "                        xval=ii*np.sqrt(np.power(jj*sideLx,2)+np.power(kk*sideLy,2))\n",
    "                    elif(pp==1):#x-z\n",
    "                        xval=ii*np.sqrt(np.power(jj*sideLx,2)+np.power(kk*sideLz,2))\n",
    "                    elif(pp==2):#y-z\n",
    "                        xval=ii*np.sqrt(np.power(jj*sideLy,2)+np.power(kk*sideLz,2))\n",
    "                        \n",
    "                    if(xval in list_mode or xval>xbreak):\n",
    "                        continue\n",
    "                    list_mode.append(xval)\n",
    "                    pl.plot([xval,xval],[base,height],'c'+ls)\n",
    "                    \n",
    "                #Three square\n",
    "                for ll in range(1,nsq):\n",
    "                    xval=ii*np.sqrt(np.power(jj*sideLx,2)+np.power(kk*sideLy,2)+np.power(ll*sideLz,2))\n",
    "                    if(xval in list_mode or xval>xbreak):\n",
    "                        continue\n",
    "                    list_mode.append(xval)\n",
    "                    pl.plot([xval,xval],[base,height],'y'+ls)\n",
    "\n",
    "    print(list_mode)\n",
    "\n",
    "compute_non_cubic_mode(10,nptx=0,npty=0,nptz=80,height=60000)"
   ]
  },
  {
   "cell_type": "code",
   "execution_count": null,
   "metadata": {
    "collapsed": true,
    "jupyter": {
     "outputs_hidden": true
    }
   },
   "outputs": [],
   "source": []
  }
 ],
 "metadata": {
  "kernelspec": {
   "display_name": "Python 3 (ipykernel)",
   "language": "python",
   "name": "python3"
  },
  "language_info": {
   "codemirror_mode": {
    "name": "ipython",
    "version": 3
   },
   "file_extension": ".py",
   "mimetype": "text/x-python",
   "name": "python",
   "nbconvert_exporter": "python",
   "pygments_lexer": "ipython3",
   "version": "3.12.5"
  }
 },
 "nbformat": 4,
 "nbformat_minor": 4
}
